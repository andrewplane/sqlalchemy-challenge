{
 "cells": [
  {
   "cell_type": "code",
   "execution_count": 239,
   "metadata": {},
   "outputs": [],
   "source": [
    "%matplotlib inline\n",
    "from matplotlib import style\n",
    "style.use('fivethirtyeight')\n",
    "import matplotlib.pyplot as plt"
   ]
  },
  {
   "cell_type": "code",
   "execution_count": 240,
   "metadata": {},
   "outputs": [],
   "source": [
    "import numpy as np\n",
    "import pandas as pd\n",
    "import datetime as dt\n",
    "from datetime import datetime, timedelta\n",
    "from dateutil.relativedelta import relativedelta"
   ]
  },
  {
   "cell_type": "markdown",
   "metadata": {},
   "source": [
    "# Reflect Tables into SQLAlchemy ORM"
   ]
  },
  {
   "cell_type": "code",
   "execution_count": 241,
   "metadata": {},
   "outputs": [],
   "source": [
    "# Python SQL toolkit and Object Relational Mapper\n",
    "import sqlalchemy\n",
    "from sqlalchemy.ext.automap import automap_base\n",
    "from sqlalchemy.orm import Session\n",
    "from sqlalchemy import create_engine, func, inspect, text, desc"
   ]
  },
  {
   "cell_type": "code",
   "execution_count": 242,
   "metadata": {},
   "outputs": [],
   "source": [
    "def print_tables():\n",
    "    # Display the tables and their columns\n",
    "    inspector = inspect(engine)\n",
    "    tables = inspector.get_table_names()\n",
    "\n",
    "    for table in tables:\n",
    "        print(f'For table: {table}')\n",
    "        columns = inspector.get_columns(table)\n",
    "        for column in columns:\n",
    "            print(column['name'], column['type'])\n",
    "        print()"
   ]
  },
  {
   "cell_type": "code",
   "execution_count": 243,
   "metadata": {},
   "outputs": [],
   "source": [
    "# create engine to hawaii.sqlite\n",
    "engine = create_engine(\"sqlite:///Resources/hawaii.sqlite\")"
   ]
  },
  {
   "cell_type": "code",
   "execution_count": 244,
   "metadata": {},
   "outputs": [],
   "source": [
    "# reflect an existing database into a new model\n",
    "Base = automap_base()\n",
    "# reflect the tables\n",
    "Base.prepare(autoload_with=engine)"
   ]
  },
  {
   "cell_type": "code",
   "execution_count": 245,
   "metadata": {},
   "outputs": [
    {
     "data": {
      "text/plain": [
       "['measurement', 'station']"
      ]
     },
     "execution_count": 245,
     "metadata": {},
     "output_type": "execute_result"
    }
   ],
   "source": [
    "# View all of the classes that automap found\n",
    "Base.classes.keys()"
   ]
  },
  {
   "cell_type": "code",
   "execution_count": 246,
   "metadata": {},
   "outputs": [],
   "source": [
    "# Save references to each table\n",
    "Measurement = Base.classes.measurement\n",
    "Station = Base.classes.station"
   ]
  },
  {
   "cell_type": "code",
   "execution_count": 247,
   "metadata": {},
   "outputs": [
    {
     "name": "stdout",
     "output_type": "stream",
     "text": [
      "For table: measurement\n",
      "id INTEGER\n",
      "station TEXT\n",
      "date TEXT\n",
      "prcp FLOAT\n",
      "tobs FLOAT\n",
      "\n",
      "For table: station\n",
      "id INTEGER\n",
      "station TEXT\n",
      "name TEXT\n",
      "latitude FLOAT\n",
      "longitude FLOAT\n",
      "elevation FLOAT\n",
      "\n"
     ]
    }
   ],
   "source": [
    "# Create our session (link) from Python to the DB\n",
    "session = Session(engine)\n",
    "print_tables()"
   ]
  },
  {
   "cell_type": "markdown",
   "metadata": {},
   "source": [
    "# Exploratory Precipitation Analysis"
   ]
  },
  {
   "cell_type": "code",
   "execution_count": 248,
   "metadata": {},
   "outputs": [
    {
     "name": "stdout",
     "output_type": "stream",
     "text": [
      "Most recent date in dataset: 2017-08-23\n"
     ]
    }
   ],
   "source": [
    "# Read the query\n",
    "measurement = session.query(Measurement)\n",
    "\n",
    "# Find the most recent date in the data set.\n",
    "recent = measurement.order_by(Measurement.date.desc()).first()\n",
    "print(f'Most recent date in dataset: {recent.date}')\n"
   ]
  },
  {
   "cell_type": "code",
   "execution_count": 251,
   "metadata": {},
   "outputs": [
    {
     "name": "stdout",
     "output_type": "stream",
     "text": [
      "The last 12 months of data are 2016-08-23 through 2017-08-23\n"
     ]
    },
    {
     "data": {
      "image/png": "[encoded data removed]",
      "text/plain": [
       "<Figure size 1000x500 with 1 Axes>"
      ]
     },
     "metadata": {},
     "output_type": "display_data"
    }
   ],
   "source": [
    "# Design a query to retrieve the last 12 months of precipitation data and plot the results. \n",
    "# Starting from the most recent data point in the database. \n",
    "recent_date = pd.to_datetime(recent.date)\n",
    "\n",
    "# Calculate the date one year from the last date in data set.\n",
    "prev_year = recent_date - relativedelta(years=1)\n",
    "\n",
    "recent_date = recent_date.strftime('%Y-%m-%d')\n",
    "prev_year = prev_year.strftime('%Y-%m-%d')\n",
    "print(f'The last 12 months of data are {prev_year} through {recent_date}')\n",
    "\n",
    "# Perform a query to retrieve the data and precipitation scores\n",
    "results = session.query(Measurement.date, \n",
    "                        Measurement.station, \n",
    "                        Measurement.prcp).\\\n",
    "    filter(Measurement.date >= prev_year,\n",
    "           Measurement.date <= recent_date).\\\n",
    "        order_by(Measurement.date).all()\n",
    "        \n",
    "       \n",
    "# # Save the query results as a Pandas DataFrame. Explicitly set the column names\n",
    "df = pd.DataFrame(results)\n",
    "\n",
    "# Rename 'prcp' to 'Percipitation'        \n",
    "df.rename(columns={'prcp': 'Precipitation'}, inplace=True) \n",
    "# print(df)\n",
    "\n",
    "# Sort the dataframe by date\n",
    "# All ready done with the 'order_by()'\n",
    "\n",
    "# Use Pandas Plotting with Matplotlib to plot the data\n",
    "ax = df.plot(\n",
    "        x='date', \n",
    "        y='Precipitation', \n",
    "        kind='bar', \n",
    "        width=15,\n",
    "        figsize=(10, 5), \n",
    "        color='blue', \n",
    "        legend=True)\n",
    "# plt.title('Precipitation in Last 12 Months of Data')\n",
    "plt.xlabel('Date')\n",
    "plt.ylabel('Inches')\n",
    "\n",
    "# Set the x-ticks to show only 6 evenly spaced ticks\n",
    "num_ticks = 6\n",
    "ax.set_xticks(range(0, len(df), max(1, len(df) // num_ticks)))\n",
    "ax.set_xticklabels(df['date'][::max(1, len(df) // num_ticks)], rotation=90)\n",
    "plt.show()"
   ]
  },
  {
   "cell_type": "code",
   "execution_count": null,
   "metadata": {},
   "outputs": [],
   "source": [
    "# Use Pandas to calculate the summary statistics for the precipitation data\n",
    "df['Precipitation'].describe()"
   ]
  },
  {
   "cell_type": "markdown",
   "metadata": {},
   "source": [
    "# Exploratory Station Analysis"
   ]
  },
  {
   "cell_type": "code",
   "execution_count": null,
   "metadata": {},
   "outputs": [],
   "source": [
    "# Design a query to calculate the total number of stations in the dataset\n",
    "station = session.query(Station)\n",
    "print(f'There are {station.count()} stations in the dataset')"
   ]
  },
  {
   "cell_type": "code",
   "execution_count": null,
   "metadata": {},
   "outputs": [],
   "source": [
    "# Design a query to find the most active stations (i.e. which stations have the most rows?)\n",
    "# List the stations and their counts in descending order.\n",
    "station_counts = session.query(\n",
    "    Measurement.station,\n",
    "    func.count(Measurement.station).label('count')).\\\n",
    "        group_by(Measurement.station).order_by(desc('count')).all()\n",
    "        \n",
    "station_counts_df = pd.DataFrame(station_counts, columns=['station_id', 'count'])\n",
    "\n",
    "print(station_counts_df)"
   ]
  },
  {
   "cell_type": "code",
   "execution_count": null,
   "metadata": {},
   "outputs": [],
   "source": [
    "# Isolate the name of the most active station\n",
    "most_active_station = station_counts_df['station_id'][0]\n",
    "print(f'The most active station is {most_active_station}')"
   ]
  },
  {
   "cell_type": "code",
   "execution_count": null,
   "metadata": {},
   "outputs": [],
   "source": [
    "# Using the most active station id from the previous query, calculate the lowest, highest, and average temperature.\n",
    "temp_results = session.query(\n",
    "    func.min(Measurement.tobs).label('lowest'),\n",
    "    func.max(Measurement.tobs).label('highest'),\n",
    "    func.avg(Measurement.tobs).label('average')).filter(Measurement.station == most_active_station).all()\n",
    "\n",
    "print(f'Station {most_active_station}:')\n",
    "print(f'lowest temperature: {lowest}F')\n",
    "print(f'highest temperature: {highest}F')\n",
    "print(f'average temperature: {average:.1f}F')"
   ]
  },
  {
   "cell_type": "code",
   "execution_count": null,
   "metadata": {},
   "outputs": [
    {
     "name": "stdout",
     "output_type": "stream",
     "text": [
      "The last 12 months of data are 2016-08-23 through 2017-08-23 for USC00519281\n"
     ]
    },
    {
     "data": {
      "text/plain": [
       "<Axes: xlabel='Temperature', ylabel='Frequency'>"
      ]
     },
     "execution_count": 252,
     "metadata": {},
     "output_type": "execute_result"
    },
    {
     "data": {
      "image/png": "[encoded data removed]",
      "text/plain": [
       "<Figure size 640x480 with 1 Axes>"
      ]
     },
     "metadata": {},
     "output_type": "display_data"
    }
   ],
   "source": [
    "# Using the most active station id\n",
    "# Query the last 12 months of temperature observation data for this station and plot the results as a histogram\n",
    "most_recent_date = df['date'].max()\n",
    "recent_date = pd.to_datetime(most_recent_date)\n",
    "\n",
    "prev_year = recent_date - relativedelta(years=1)\n",
    "\n",
    "recent_date = recent_date.strftime('%Y-%m-%d')\n",
    "prev_year = prev_year.strftime('%Y-%m-%d')\n",
    "\n",
    "print(f'The last 12 months of data are {prev_year} through {recent_date} for {most_active_station}')\n",
    "\n",
    "results = session.query(Measurement.date, \n",
    "                        Measurement.station, \n",
    "                        Measurement.tobs).\\\n",
    "    filter(Measurement.date >= prev_year,\n",
    "           Measurement.date <= recent_date,\n",
    "           Measurement.station == most_active_station).\\\n",
    "        order_by(Measurement.date).all()\n",
    "\n",
    "df = pd.DataFrame(results)\n",
    "\n",
    "df.plot(x='date', \n",
    "        y='tobs', \n",
    "        kind='hist', \n",
    "        bins=12, \n",
    "        xlabel='Temperature', \n",
    "        ylabel='Frequency')\n",
    "                     \n"
   ]
  },
  {
   "cell_type": "markdown",
   "metadata": {},
   "source": [
    "# Close Session"
   ]
  },
  {
   "cell_type": "code",
   "execution_count": null,
   "metadata": {},
   "outputs": [],
   "source": [
    "# Close Session\n",
    "session.close()"
   ]
  },
  {
   "cell_type": "code",
   "execution_count": null,
   "metadata": {},
   "outputs": [],
   "source": []
  }
 ],
 "metadata": {
  "anaconda-cloud": {},
  "kernel_info": {
   "name": "python3"
  },
  "kernelspec": {
   "display_name": "dev",
   "language": "python",
   "name": "python3"
  },
  "language_info": {
   "codemirror_mode": {
    "name": "ipython",
    "version": 3
   },
   "file_extension": ".py",
   "mimetype": "text/x-python",
   "name": "python",
   "nbconvert_exporter": "python",
   "pygments_lexer": "ipython3",
   "version": "3.10.15"
  },
  "nteract": {
   "version": "0.12.3"
  },
  "varInspector": {
   "cols": {
    "lenName": 16,
    "lenType": 16,
    "lenVar": 40
   },
   "kernels_config": {
    "python": {
     "delete_cmd_postfix": "",
     "delete_cmd_prefix": "del ",
     "library": "var_list.py",
     "varRefreshCmd": "print(var_dic_list())"
    },
    "r": {
     "delete_cmd_postfix": ") ",
     "delete_cmd_prefix": "rm(",
     "library": "var_list.r",
     "varRefreshCmd": "cat(var_dic_list()) "
    }
   },
   "types_to_exclude": [
    "module",
    "function",
    "builtin_function_or_method",
    "instance",
    "_Feature"
   ],
   "window_display": false
  }
 },
 "nbformat": 4,
 "nbformat_minor": 2
}
